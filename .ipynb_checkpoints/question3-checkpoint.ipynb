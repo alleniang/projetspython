{
 "cells": [
  {
   "cell_type": "code",
   "execution_count": 3,
   "id": "f2f6d3da",
   "metadata": {},
   "outputs": [
    {
     "data": {
      "text/plain": [
       "{1: 1, 2: 4, 3: 9, 4: 16, 5: 25, 6: 36, 7: 49, 8: 64}"
      ]
     },
     "execution_count": 3,
     "metadata": {},
     "output_type": "execute_result"
    }
   ],
   "source": [
    "my_dict={}\n",
    "def dictionnaire(n):\n",
    "    for i in range(1,n+1,1):\n",
    "        my_dict[i]=i*i\n",
    "    return my_dict\n",
    "\n",
    "dictionnaire(8)"
   ]
  },
  {
   "cell_type": "code",
   "execution_count": null,
   "id": "ed71df88",
   "metadata": {},
   "outputs": [],
   "source": []
  }
 ],
 "metadata": {
  "kernelspec": {
   "display_name": "Python 3",
   "language": "python",
   "name": "python3"
  },
  "language_info": {
   "codemirror_mode": {
    "name": "ipython",
    "version": 3
   },
   "file_extension": ".py",
   "mimetype": "text/x-python",
   "name": "python",
   "nbconvert_exporter": "python",
   "pygments_lexer": "ipython3",
   "version": "3.8.8"
  }
 },
 "nbformat": 4,
 "nbformat_minor": 5
}
