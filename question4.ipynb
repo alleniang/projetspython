{
 "cells": [
  {
   "cell_type": "code",
   "execution_count": 40,
   "id": "12a36e92",
   "metadata": {},
   "outputs": [
    {
     "name": "stdout",
     "output_type": "stream",
     "text": [
      "ktten\n",
      "itten\n",
      "kittn\n"
     ]
    }
   ],
   "source": [
    "def missing_char(my_string, n):\n",
    "    if n in range(0, len(my_string), 1):\n",
    "        my_liste = list(my_string)\n",
    "        del my_liste[n]\n",
    "        my_string = \"\".join(my_liste)\n",
    "        return my_string\n",
    "    else:\n",
    "        return \"Error index char\"\n",
    "print(missing_char(\"kitten\",1))\n",
    "print(missing_char(\"kitten\",0))\n",
    "print(missing_char(\"kitten\",4))"
   ]
  },
  {
   "cell_type": "code",
   "execution_count": null,
   "id": "a61810f6",
   "metadata": {},
   "outputs": [],
   "source": []
  },
  {
   "cell_type": "code",
   "execution_count": null,
   "id": "f49362d3",
   "metadata": {},
   "outputs": [],
   "source": []
  }
 ],
 "metadata": {
  "kernelspec": {
   "display_name": "Python 3",
   "language": "python",
   "name": "python3"
  },
  "language_info": {
   "codemirror_mode": {
    "name": "ipython",
    "version": 3
   },
   "file_extension": ".py",
   "mimetype": "text/x-python",
   "name": "python",
   "nbconvert_exporter": "python",
   "pygments_lexer": "ipython3",
   "version": "3.8.8"
  }
 },
 "nbformat": 4,
 "nbformat_minor": 5
}
