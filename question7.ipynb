{
 "cells": [
  {
   "cell_type": "code",
   "execution_count": 29,
   "id": "54a2baba",
   "metadata": {},
   "outputs": [
    {
     "name": "stdout",
     "output_type": "stream",
     "text": [
      "Veuillez saisir la séquence:100,150,180\n"
     ]
    },
    {
     "data": {
      "text/plain": [
       "{333, 500, 600}"
      ]
     },
     "execution_count": 29,
     "metadata": {},
     "output_type": "execute_result"
    }
   ],
   "source": [
    "C, H = 50, 30\n",
    "def calcul(C, H):\n",
    "    d=input(\"Veuillez saisir la séquence:\")\n",
    "    d=d.split(\",\")\n",
    "    my_set = set(d)\n",
    "    my_new_set = set()\n",
    "    for D in my_set:\n",
    "        D=int(D)\n",
    "        my_new_set.add(round((2 * C * D)/H))\n",
    "    return my_new_set\n",
    "calcul(C, H)"
   ]
  }
 ],
 "metadata": {
  "kernelspec": {
   "display_name": "Python 3",
   "language": "python",
   "name": "python3"
  },
  "language_info": {
   "codemirror_mode": {
    "name": "ipython",
    "version": 3
   },
   "file_extension": ".py",
   "mimetype": "text/x-python",
   "name": "python",
   "nbconvert_exporter": "python",
   "pygments_lexer": "ipython3",
   "version": "3.8.8"
  }
 },
 "nbformat": 4,
 "nbformat_minor": 5
}
