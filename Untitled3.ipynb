{
 "cells": [
  {
   "cell_type": "code",
   "execution_count": 21,
   "id": "2422c676",
   "metadata": {},
   "outputs": [
    {
     "data": {
      "text/plain": [
       "'Error index'"
      ]
     },
     "execution_count": 21,
     "metadata": {},
     "output_type": "execute_result"
    }
   ],
   "source": [
    "def remove_index(my_string, n):\n",
    "    if n in range(0, len(my_string)-1, 1):\n",
    "        my_liste = list(my_string)\n",
    "        del my_liste[n]\n",
    "        my_string = \"\".join(my_liste)\n",
    "        return my_string\n",
    "    else:\n",
    "        return \"Error index\"\n",
    "remove_index(\"mamadou\",9)\n"
   ]
  },
  {
   "cell_type": "code",
   "execution_count": null,
   "id": "9008ee89",
   "metadata": {},
   "outputs": [],
   "source": []
  },
  {
   "cell_type": "code",
   "execution_count": null,
   "id": "71f34b66",
   "metadata": {},
   "outputs": [],
   "source": []
  }
 ],
 "metadata": {
  "kernelspec": {
   "display_name": "Python 3",
   "language": "python",
   "name": "python3"
  },
  "language_info": {
   "codemirror_mode": {
    "name": "ipython",
    "version": 3
   },
   "file_extension": ".py",
   "mimetype": "text/x-python",
   "name": "python",
   "nbconvert_exporter": "python",
   "pygments_lexer": "ipython3",
   "version": "3.8.8"
  }
 },
 "nbformat": 4,
 "nbformat_minor": 5
}
